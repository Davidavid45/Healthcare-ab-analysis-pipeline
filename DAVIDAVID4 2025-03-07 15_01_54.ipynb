{
 "metadata": {
  "kernelspec": {
   "display_name": "Streamlit Notebook",
   "name": "streamlit"
  },
  "lastEditStatus": {
   "notebookId": "2vovbagumolm6yxcnqwg",
   "authorId": "3744331797602",
   "authorName": "DAVIDAVID4",
   "authorEmail": "adegokedjobs23@gmail.com",
   "sessionId": "b84b308e-20a1-4b71-abd3-dec4d617b9e5",
   "lastEditTime": 1741381965105
  }
 },
 "nbformat_minor": 5,
 "nbformat": 4,
 "cells": [
  {
   "cell_type": "code",
   "id": "1912ae64-6625-4ac2-8b49-22e0f9457ed2",
   "metadata": {
    "language": "python",
    "name": "cell1"
   },
   "outputs": [],
   "source": "from snowflake.snowpark.context import get_active_session",
   "execution_count": null
  },
  {
   "cell_type": "code",
   "id": "559fcbfb-1015-4185-a1f8-d48d30436145",
   "metadata": {
    "language": "python",
    "name": "cell4"
   },
   "outputs": [],
   "source": "import pandas as pd",
   "execution_count": null
  },
  {
   "cell_type": "code",
   "id": "0db4abb3-45cb-4467-8458-e0dec79a1314",
   "metadata": {
    "language": "python",
    "name": "cell2",
    "codeCollapsed": false
   },
   "outputs": [],
   "source": "session = get_active_session()",
   "execution_count": null
  },
  {
   "cell_type": "code",
   "id": "62b09350-6364-4d72-bf9d-f4b2a49720a6",
   "metadata": {
    "language": "python",
    "name": "cell5"
   },
   "outputs": [],
   "source": "query = \"SELECT * FROM DBT_DB.DBT_SCHEMA.FACT_AB_TEST_DATA\"\ndf = session.sql(query).to_pandas()\n\ndf.head()",
   "execution_count": null
  },
  {
   "cell_type": "code",
   "id": "6a7e11f4-83cc-487c-bb2f-2e5c29ca0a56",
   "metadata": {
    "language": "python",
    "name": "cell3"
   },
   "outputs": [],
   "source": "df.info()\ndf.describe()",
   "execution_count": null
  },
  {
   "cell_type": "code",
   "id": "6e2e05e8-0b06-4b48-a22d-34a9e936b8ac",
   "metadata": {
    "language": "python",
    "name": "cell8"
   },
   "outputs": [],
   "source": "df.isnull().sum()",
   "execution_count": null
  },
  {
   "cell_type": "markdown",
   "id": "2abcb24f-69c1-406a-9d2e-b5d70928440f",
   "metadata": {
    "name": "cell7",
    "collapsed": false
   },
   "source": "A/B testing typically has:\n- Null Hypothesis (H₀): No significant difference between Group A and Group B.\n- Alternative Hypothesis (H₁): A significant difference exists.\n\n\n- H₀: The mean Total Paid Amount is the same for Group A and Group B.\n- H₁: The mean Total Paid Amount is different between Group A and Group B."
  },
  {
   "cell_type": "code",
   "id": "bbb0f2da-1c85-4a1e-a74a-30063eb867e4",
   "metadata": {
    "language": "python",
    "name": "cell10"
   },
   "outputs": [],
   "source": "# Check the count of observations in each test group\ndf[\"TEST_GROUP\"].value_counts()",
   "execution_count": null
  },
  {
   "cell_type": "code",
   "id": "5d21f978-ca7c-41b6-abea-cbde19fa98bb",
   "metadata": {
    "language": "python",
    "name": "cell11",
    "codeCollapsed": false
   },
   "outputs": [],
   "source": "from scipy.stats import shapiro\n\n# Perform normality test for both groups\nstat_A, p_A = shapiro(df[df[\"TEST_GROUP\"] == \"A\"][\"TOTAL_PAID_AMOUNT\"])\nstat_B, p_B = shapiro(df[df[\"TEST_GROUP\"] == \"B\"][\"TOTAL_PAID_AMOUNT\"])\n\nprint(f\"Group A - p-value: {p_A}\")\nprint(f\"Group B - p-value: {p_B}\")",
   "execution_count": null
  },
  {
   "cell_type": "code",
   "id": "e272693b-5de6-4468-857b-19dca029fc95",
   "metadata": {
    "language": "python",
    "name": "cell12"
   },
   "outputs": [],
   "source": "from scipy.stats import mannwhitneyu\n\n# Extract values for each group\ngroup_A = df[df[\"TEST_GROUP\"] == \"A\"][\"TOTAL_PAID_AMOUNT\"]\ngroup_B = df[df[\"TEST_GROUP\"] == \"B\"][\"TOTAL_PAID_AMOUNT\"]\n\n# Perform Mann-Whitney U test\nstat, p_value = mannwhitneyu(group_A, group_B, alternative=\"two-sided\")\n\nprint(f\"Mann-Whitney U test statistic: {stat}\")\nprint(f\"P-value: {p_value}\")",
   "execution_count": null
  },
  {
   "cell_type": "markdown",
   "id": "0824e8e9-d685-4e34-8a38-3061aa7505b5",
   "metadata": {
    "name": "cell13",
    "collapsed": false
   },
   "source": "### What does this mean?\n- Since p-value > 0.05, we fail to reject the null hypothesis (H₀).\n- This means there is no statistically significant difference between the Total Paid Amount for Group A and Group B.\n\n### Conclusion\n\nBased on this test, the intervention, change tested in Group B did not significantly impact the Total Paid Amount compared to Group A.\n"
  },
  {
   "cell_type": "code",
   "id": "b4580756-19b7-42b1-ac4e-bfbf046127a9",
   "metadata": {
    "language": "python",
    "name": "cell14",
    "codeCollapsed": false
   },
   "outputs": [],
   "source": "import seaborn as sns\nimport matplotlib.pyplot as plt\n\n",
   "execution_count": null
  },
  {
   "cell_type": "code",
   "id": "037df416-8049-4db9-8838-2515e5b17a5a",
   "metadata": {
    "language": "python",
    "name": "cell15"
   },
   "outputs": [],
   "source": "plt.figure(figsize=(8,5))\nsns.boxplot(x=\"TEST_GROUP\", y=\"TOTAL_PAID_AMOUNT\", data=df)\nplt.title(\"Total Paid Amount Distribution by Test Group\")\nplt.xlabel(\"Test Group\")\nplt.ylabel(\"Total Paid Amount\")\nplt.show()",
   "execution_count": null
  },
  {
   "cell_type": "code",
   "id": "6ff652b1-e27d-4888-97c1-b391a0f414cc",
   "metadata": {
    "language": "python",
    "name": "cell6",
    "codeCollapsed": false
   },
   "outputs": [],
   "source": "plt.figure(figsize=(8,5))\nsns.histplot(df[df[\"TEST_GROUP\"]==\"A\"][\"TOTAL_PAID_AMOUNT\"], color=\"blue\", label=\"Group A\", kde=True, bins=30)\nsns.histplot(df[df[\"TEST_GROUP\"]==\"B\"][\"TOTAL_PAID_AMOUNT\"], color=\"red\", label=\"Group B\", kde=True, bins=30)\nplt.title(\"Total Paid Amount Distribution\")\nplt.xlabel(\"Total Paid Amount\")\nplt.ylabel(\"Frequency\")\nplt.legend()\nplt.show()",
   "execution_count": null
  },
  {
   "cell_type": "markdown",
   "id": "36c9a7eb-6fbf-4b00-8662-09e03c64652b",
   "metadata": {
    "name": "cell17",
    "collapsed": false
   },
   "source": "## A/B Test Summary\n\n### Objective\n\nThe A/B test aimed to determine whether there was a significant difference in Total Paid Amount between Test Group A and Test Group B.\n\n### Hypotheses\n-\tNull Hypothesis (H₀): There is no significant difference in the mean Total Paid Amount between Group A and Group B.\n-\tAlternative Hypothesis (H₁): There is a significant difference in the mean Total Paid Amount between Group A and Group B.\n\n### Key Steps\n1.\tData Exploration & Cleaning\n  -\tChecked for missing values (None found).\n  -\tVerified the distribution of samples across the test groups (Group A: 106, Group B: 113).\n2.\tNormality Test (Shapiro-Wilk)\n  - Both groups had p-values < 0.05, indicating that the data is not normally distributed.\n  -\tThis justified the use of a non-parametric test.\n3.\tStatistical Testing (Mann-Whitney U Test)\n  - p-value = 0.709, meaning no significant difference between the two groups in terms of Total Paid Amount.\n4.\tData Visualization\n  - Boxplot confirmed the presence of outliers.\n  - Histogram with KDE plot showed skewed distributions in both groups.\n\nConclusion\n- Since p > 0.05, we fail to reject the null hypothesis.\n- The results suggest that there is no statistically significant difference in Total Paid Amount between Group A and Group B.\n- Effect size was not calculated due to package limitations, but based on the p-value, there is no strong evidence of an impact."
  }
 ]
}